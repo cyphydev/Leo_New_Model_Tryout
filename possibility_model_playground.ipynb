{
 "cells": [
  {
   "cell_type": "code",
   "execution_count": 1,
   "metadata": {},
   "outputs": [],
   "source": [
    "from possibility_model import PossibilityModel"
   ]
  },
  {
   "cell_type": "code",
   "execution_count": 3,
   "metadata": {},
   "outputs": [
    {
     "name": "stderr",
     "output_type": "stream",
     "text": [
      "Loading data from jsonl file: 3688879it [01:49, 33644.24it/s]\n"
     ]
    }
   ],
   "source": [
    "possibility_model = PossibilityModel()"
   ]
  },
  {
   "cell_type": "code",
   "execution_count": 5,
   "metadata": {},
   "outputs": [
    {
     "name": "stdout",
     "output_type": "stream",
     "text": [
      "--------------------\n",
      "Number of days that the actor has published within 3 days: 0\n",
      "Number of messages that the actor has published within 3 days: 0\n",
      "Number of days that the actor has published within 7 days: 0\n",
      "Number of messages that the actor has published within 7 days: 0\n",
      "Number of days that the actor has published within 14 days: 5\n",
      "Number of messages that the actor has published within 14 days: 108\n",
      "Number of days that the actor has published within 30 days: 21\n",
      "Number of messages that the actor has published within 30 days: 514\n",
      "Number of days that the actor has published in total: 46\n",
      "Number of messages that the actor has published in total: 859\n",
      "Response rate of actor AutoModerator is 0.7540983606557377\n"
     ]
    },
    {
     "data": {
      "text/plain": [
       "0.7540983606557377"
      ]
     },
     "execution_count": 5,
     "metadata": {},
     "output_type": "execute_result"
    }
   ],
   "source": [
    "possibility_model.predict('AutoModerator', 1699599525000)"
   ]
  },
  {
   "cell_type": "code",
   "execution_count": null,
   "metadata": {},
   "outputs": [],
   "source": []
  }
 ],
 "metadata": {
  "kernelspec": {
   "display_name": "you_venv",
   "language": "python",
   "name": "python3"
  },
  "language_info": {
   "codemirror_mode": {
    "name": "ipython",
    "version": 3
   },
   "file_extension": ".py",
   "mimetype": "text/x-python",
   "name": "python",
   "nbconvert_exporter": "python",
   "pygments_lexer": "ipython3",
   "version": "3.8.10"
  }
 },
 "nbformat": 4,
 "nbformat_minor": 2
}
